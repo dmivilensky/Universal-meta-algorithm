{
 "cells": [
  {
   "cell_type": "code",
   "execution_count": 1,
   "metadata": {},
   "outputs": [
    {
     "name": "stderr",
     "output_type": "stream",
     "text": [
      "Matplotlib created a temporary config/cache directory at /Users/dmivilensky/.matplotlib because the default path (/var/folders/4w/lpt30zrj5vb3cq5mfxb3x50h0000gq/T/matplotlib-sw7qaeoq) is not a writable directory; it is highly recommended to set the MPLCONFIGDIR environment variable to a writable directory, in particular to speed up the import of Matplotlib and to better support multiprocessing.\n"
     ]
    }
   ],
   "source": [
    "import numpy as np\n",
    "from numpy.linalg import norm\n",
    "from numpy import random as rnd\n",
    "from scipy.sparse import csr_matrix, random, hstack\n",
    "from functools import partial\n",
    "import time\n",
    "import matplotlib.pyplot as plt\n",
    "%matplotlib inline"
   ]
  },
  {
   "cell_type": "code",
   "execution_count": 161,
   "metadata": {},
   "outputs": [],
   "source": [
    "n = 10_000\n",
    "m = 20_000\n",
    "gamma = 1"
   ]
  },
  {
   "cell_type": "code",
   "execution_count": 162,
   "metadata": {},
   "outputs": [],
   "source": [
    "sparsities = rnd.exponential(scale=0.001, size=m).clip(0, 1)"
   ]
  },
  {
   "cell_type": "code",
   "execution_count": 163,
   "metadata": {},
   "outputs": [],
   "source": [
    "A_ = [random(n, 1, density=sparsities[i]) * 0.01 for i in range(m)]\n",
    "A = hstack(A_).T.tocsc()"
   ]
  },
  {
   "cell_type": "code",
   "execution_count": 164,
   "metadata": {},
   "outputs": [
    {
     "data": {
      "text/plain": [
       "0.00185"
      ]
     },
     "execution_count": 164,
     "metadata": {},
     "output_type": "execute_result"
    }
   ],
   "source": [
    "s = max(A.getcol(k).count_nonzero() / m for k in range(n))\n",
    "s"
   ]
  },
  {
   "cell_type": "code",
   "execution_count": 165,
   "metadata": {},
   "outputs": [],
   "source": [
    "L_ = [np.max(A.getcol(k).toarray() ** 2) for k in range(n)]\n",
    "L = max(norm(A.getcol(k).toarray())**2 for k in range(n))"
   ]
  },
  {
   "cell_type": "code",
   "execution_count": 166,
   "metadata": {},
   "outputs": [],
   "source": [
    "b = np.zeros(n)"
   ]
  },
  {
   "cell_type": "code",
   "execution_count": 167,
   "metadata": {},
   "outputs": [],
   "source": [
    "def f_(x, A, b, gamma):\n",
    "    mult_ = A.dot(x) / gamma\n",
    "    \n",
    "    # log-sum-exp trick\n",
    "    c = mult_.max()\n",
    "    softmax = c + np.log(np.exp(mult_ - c).sum())\n",
    "    \n",
    "    loss = gamma * softmax + b.dot(x)\n",
    "    return loss\n",
    "\n",
    "f = partial(f_, A=A, b=b, gamma=gamma)"
   ]
  },
  {
   "cell_type": "code",
   "execution_count": 168,
   "metadata": {},
   "outputs": [],
   "source": [
    "def grad_f_(x, A, expAx, expAxSum, b, gamma, coord=-1, Acol=None):\n",
    "    if coord != -1:\n",
    "        grad_softmax = Acol.T.dot(expAx) / expAxSum\n",
    "        grad_loss = gamma * grad_softmax + b[coord]\n",
    "    else:\n",
    "        grad_softmax = A.T.dot(expAx) / expAxSum\n",
    "        grad_loss = gamma * grad_softmax + b\n",
    "    \n",
    "    return grad_loss\n",
    "\n",
    "def stoch_grad():\n",
    "    expAx = None\n",
    "    expAxSum = 0\n",
    "    lastAcol = None\n",
    "\n",
    "    def stoch_grad_f(x, A, b, gamma, changed_coord=-1, get=-1, dx=None, zero_grad=False):\n",
    "        nonlocal expAx, expAxSum, lastAcol\n",
    "        if zero_grad:\n",
    "            expAx = None\n",
    "            expAxSum = 0\n",
    "            lastAcol = None\n",
    "            return\n",
    "        \n",
    "        if expAx is None or changed_coord == -1:\n",
    "            expAx = np.exp(A.dot(x))\n",
    "            expAxSum = expAx.sum()\n",
    "        elif dx != 0:\n",
    "            if rnd.random() < 0.01:\n",
    "                expAx = np.exp(A.dot(x))\n",
    "                expAxSum = expAx.sum()\n",
    "            else:\n",
    "                if lastAcol is not None:\n",
    "                    r = dx[0] * lastAcol\n",
    "                else:\n",
    "                    r = dx[0] * A.getcol(changed_coord)\n",
    "                rnz = r.nonzero()\n",
    "                expAxSum -= expAx[rnz[0]].sum()\n",
    "                expAx[rnz[0]] = np.exp(np.log(expAx[rnz[0]]) + r[rnz])\n",
    "                expAxSum += expAx[rnz[0]].sum()\n",
    "        \n",
    "        lastAcol = A.getcol(get)\n",
    "        loss = grad_f_(x, A, expAx, expAxSum, b, gamma, coord=get, Acol=lastAcol)\n",
    "        return loss\n",
    "\n",
    "    return stoch_grad_f\n",
    "\n",
    "def old_(x, A, b, gamma, get=-1, changed_coord=0, dx=0):\n",
    "    Ax = A.dot(x)\n",
    "    expAx = np.exp(Ax)\n",
    "    return grad_f_(x, A, expAx, expAx.sum(), b, gamma, coord=get, Acol=A.getcol(get))\n",
    "\n",
    "grad_f = partial(stoch_grad(), A=A, b=b, gamma=gamma)\n",
    "grad_f_old = partial(old_, A=A, b=b, gamma=gamma)"
   ]
  },
  {
   "cell_type": "code",
   "execution_count": 169,
   "metadata": {},
   "outputs": [],
   "source": [
    "class FGM:\n",
    "    def __init__(self, L, grad_f, x0=None):\n",
    "        self.x = x0.copy() if x0 is not None else rnd.random(n)\n",
    "        self.y = self.x.copy()\n",
    "        self.L = L\n",
    "        self.k = 0\n",
    "        self.grad = grad_f\n",
    "    \n",
    "    def step(self):\n",
    "        start = time.time()\n",
    "        \n",
    "        prev_x = self.x.copy()\n",
    "        self.x = self.y - (1/self.L) * self.grad(self.y)\n",
    "        self.y = self.x + (self.k/(self.k+3)) * (self.x - prev_x)\n",
    "        self.k += 1\n",
    "        \n",
    "        duration = time.time() - start\n",
    "        return duration, self.x.copy()"
   ]
  },
  {
   "cell_type": "code",
   "execution_count": 170,
   "metadata": {},
   "outputs": [],
   "source": [
    "class GM:\n",
    "    def __init__(self, L, grad_f, x0=None):\n",
    "        self.x = x0.copy() if x0 is not None else rnd.random(n)\n",
    "        self.L = L\n",
    "        self.grad = grad_f\n",
    "    \n",
    "    def step(self):\n",
    "        start = time.time()\n",
    "        self.x = self.x - (1/self.L) * self.grad(self.x)\n",
    "        \n",
    "        duration = time.time() - start\n",
    "        return duration, self.x.copy()"
   ]
  },
  {
   "cell_type": "code",
   "execution_count": 171,
   "metadata": {},
   "outputs": [],
   "source": [
    "class CGM:\n",
    "    def __init__(self, L_, grad_f, x0=None):\n",
    "        self.last_dx = 0\n",
    "        self.last_di = 0\n",
    "        self.x = x0.copy() if x0 is not None else rnd.random(n)\n",
    "        self.L_ = L_\n",
    "        self.grad = grad_f\n",
    "    \n",
    "    def step(self):\n",
    "        start = time.time()\n",
    "        \n",
    "        i = rnd.randint(n)\n",
    "        dx = -(1/self.L_[i]) * self.grad(self.x, changed_coord=self.last_di, get=i, dx=self.last_dx)    \n",
    "        self.x[i] = self.x[i] + dx\n",
    "        \n",
    "        self.last_dx = dx\n",
    "        self.last_di = i\n",
    "        \n",
    "        duration = time.time() - start\n",
    "        return duration, self.x.copy()"
   ]
  },
  {
   "cell_type": "code",
   "execution_count": 172,
   "metadata": {},
   "outputs": [],
   "source": [
    "class FCGM:\n",
    "    def __init__(self, L_, grad_f, x0=None):\n",
    "        self.x = x0.copy() if x0 is not None else rnd.random(n)\n",
    "        self.v = self.x.copy()\n",
    "        self.L_ = L_\n",
    "        self.S = np.sqrt(L_).sum()\n",
    "        self.p = np.sqrt(L_) / self.S\n",
    "        self.A = 0\n",
    "        self.grad = grad_f\n",
    "    \n",
    "    def step(self):\n",
    "        start = time.time()\n",
    "        \n",
    "        i = rnd.choice(range(n), p=self.p)\n",
    "        a = np.roots([self.S ** 2, -1, -self.A]).max()\n",
    "        self.A += a\n",
    "        alpha = a / self.A\n",
    "        \n",
    "        y = (1 - alpha) * self.x + alpha * self.v\n",
    "        self.x = y.copy()\n",
    "        \n",
    "        grad_y = self.grad(y, get=i)\n",
    "        \n",
    "        self.x[i] -= (1/L_[i]) * grad_y\n",
    "        self.v[i] = self.v[i] - (a*self.S/np.sqrt(L_[i])) * grad_y\n",
    "        \n",
    "        duration = time.time() - start\n",
    "        return duration, self.x.copy()"
   ]
  },
  {
   "cell_type": "markdown",
   "metadata": {},
   "source": [
    "$\\psi_{x, L_h}(y) = h(x) + \\langle \\nabla h(x), y - x \\rangle + L_h \\|y - x\\|_2^2 + g(y)$"
   ]
  },
  {
   "cell_type": "code",
   "execution_count": 180,
   "metadata": {},
   "outputs": [],
   "source": [
    "class UM:\n",
    "    def __init__(self, H, L_, grad_f, subsolver=CGM, x0=None, component=True):\n",
    "        self.x = x0.copy() if x0 is not None else rnd.random(n)\n",
    "        self.y = self.x.copy()\n",
    "        self.A = 0\n",
    "        self.H = H\n",
    "        self.lambd = 1 / (2*H)\n",
    "        self.L_inn = [(Li + H) for Li in L_]\n",
    "        self.grad = grad_f\n",
    "        self.subsolver = subsolver\n",
    "        self.component = component\n",
    "        \n",
    "    def grad_Omega(self, y, x, get=-1, changed_coord=0, dx=0):\n",
    "        grad_g = self.grad(y, get=get, changed_coord=changed_coord, dx=dx)\n",
    "        if get == -1:\n",
    "            return grad_g + self.H * (y - x)\n",
    "        else:\n",
    "            return grad_g + self.H * (y[get] - x[get])\n",
    "    \n",
    "    def step(self, t=10):\n",
    "        a = (self.lambd + np.sqrt(self.lambd**2 + 4*self.lambd*self.A)) / 2\n",
    "        \n",
    "        x_wave = self.A/(self.A+a) * self.y + a/(self.A+a) * self.x\n",
    "        if self.component:\n",
    "            optimizer = self.subsolver(self.L_inn, partial(self.grad_Omega, x=x_wave), x0=self.y)\n",
    "        else:\n",
    "            optimizer = self.subsolver(self.H * 1.5, partial(self.grad_Omega, x=x_wave), x0=self.y)\n",
    "        \n",
    "        durations = np.zeros(t+1)\n",
    "        ys = []\n",
    "        for i in range(t):\n",
    "            duration, self.y = optimizer.step()\n",
    "            if i == 0:\n",
    "                durations[i] = duration\n",
    "            else:\n",
    "                durations[i] = durations[i-1] + duration\n",
    "            ys.append(self.y)\n",
    "            \n",
    "            if norm(self.grad_Omega(self.y, x_wave)) <= 1/8 * norm(self.grad(self.y)):\n",
    "                break\n",
    "            \n",
    "        start = time.time()\n",
    "        self.x -= a * self.grad(self.y)\n",
    "        durations[i+1] = durations[i] + (time.time() - start)\n",
    "        ys.append(self.y)\n",
    "            \n",
    "        self.A += a\n",
    "        return durations[:i+2], ys"
   ]
  },
  {
   "cell_type": "code",
   "execution_count": 174,
   "metadata": {},
   "outputs": [],
   "source": [
    "x0 = rnd.random(n)"
   ]
  },
  {
   "cell_type": "code",
   "execution_count": 175,
   "metadata": {},
   "outputs": [],
   "source": [
    "losses_fgm = [f(x0)]\n",
    "time_fgm = [0]\n",
    "\n",
    "optimizer = FGM(L, grad_f, x0)\n",
    "\n",
    "for _ in range(10000):\n",
    "    dt, x = optimizer.step()\n",
    "    \n",
    "    losses_fgm.append(f(x))\n",
    "    time_fgm.append(time_fgm[-1] + dt)"
   ]
  },
  {
   "cell_type": "code",
   "execution_count": 176,
   "metadata": {},
   "outputs": [],
   "source": [
    "losses_gm = [f(x0)]\n",
    "time_gm = [0]\n",
    "\n",
    "optimizer = GM(L, grad_f, x0)\n",
    "\n",
    "for _ in range(10000):\n",
    "    dt, x = optimizer.step()\n",
    "    \n",
    "    losses_gm.append(f(x))\n",
    "    time_gm.append(time_gm[-1] + dt)"
   ]
  },
  {
   "cell_type": "code",
   "execution_count": 177,
   "metadata": {},
   "outputs": [],
   "source": [
    "losses_cgm = [f(x0)]\n",
    "time_cgm = [0]\n",
    "\n",
    "optimizer = CGM(L_, grad_f, x0)\n",
    "\n",
    "for _ in range(10000):\n",
    "    dt, x = optimizer.step()\n",
    "    \n",
    "    losses_cgm.append(f(x))\n",
    "    time_cgm.append(time_cgm[-1] + dt)"
   ]
  },
  {
   "cell_type": "code",
   "execution_count": 178,
   "metadata": {},
   "outputs": [],
   "source": [
    "losses_fcgm = [f(x0)]\n",
    "time_fcgm = [0]\n",
    "\n",
    "optimizer = FCGM(L_, grad_f, x0)\n",
    "\n",
    "for _ in range(10000):\n",
    "    dt, x = optimizer.step()\n",
    "    \n",
    "    losses_fcgm.append(f(x))\n",
    "    time_fcgm.append(time_fcgm[-1] + dt)"
   ]
  },
  {
   "cell_type": "code",
   "execution_count": 181,
   "metadata": {},
   "outputs": [],
   "source": [
    "losses_um = [f(x0)]\n",
    "time_um = [0]\n",
    "\n",
    "optimizer = UM(L * 0.05, L_, grad_f, subsolver=GM, x0=x0, component=False)\n",
    "\n",
    "for _ in range(200):\n",
    "    dts, xs = optimizer.step(t=1000)\n",
    "    \n",
    "    losses_um += [f(x) for x in xs]\n",
    "    time_um += (time_um[-1] + dts).tolist()"
   ]
  },
  {
   "cell_type": "code",
   "execution_count": 182,
   "metadata": {},
   "outputs": [
    {
     "data": {
      "text/plain": [
       "<matplotlib.legend.Legend at 0x11c082b80>"
      ]
     },
     "execution_count": 182,
     "metadata": {},
     "output_type": "execute_result"
    },
    {
     "data": {
      "image/png": "[encoded data removed]",
      "text/plain": [
       "<Figure size 432x288 with 1 Axes>"
      ]
     },
     "metadata": {
      "needs_background": "light"
     },
     "output_type": "display_data"
    }
   ],
   "source": [
    "plt.semilogy(np.array(losses_gm) - losses_fgm[-1]*0.999, label=\"GM\")\n",
    "plt.semilogy(np.array(losses_fgm) - losses_fgm[-1]*0.999, label=\"FGM\")\n",
    "plt.semilogy(np.array(losses_um) - losses_fgm[-1]*0.999, label=\"UM\")\n",
    "plt.legend()"
   ]
  },
  {
   "cell_type": "code",
   "execution_count": 183,
   "metadata": {},
   "outputs": [],
   "source": [
    "grad_f(None, zero_grad=True)"
   ]
  },
  {
   "cell_type": "code",
   "execution_count": 184,
   "metadata": {},
   "outputs": [],
   "source": [
    "losses_umc = [f(x0)]\n",
    "time_umc = [0]\n",
    "\n",
    "optimizer = UM(L * 0.01, L_, grad_f, subsolver=CGM, x0=x0)\n",
    "\n",
    "for _ in range(1000):\n",
    "    dts, xs = optimizer.step(t=10)\n",
    "    \n",
    "    losses_umc += [f(x) for x in xs]\n",
    "    time_umc += (time_umc[-1] + dts).tolist()"
   ]
  },
  {
   "cell_type": "code",
   "execution_count": 185,
   "metadata": {},
   "outputs": [
    {
     "data": {
      "text/plain": [
       "[<matplotlib.lines.Line2D at 0x121491b50>]"
      ]
     },
     "execution_count": 185,
     "metadata": {},
     "output_type": "execute_result"
    },
    {
     "data": {
      "image/png": "[encoded data removed]",
      "text/plain": [
       "<Figure size 432x288 with 1 Axes>"
      ]
     },
     "metadata": {
      "needs_background": "light"
     },
     "output_type": "display_data"
    }
   ],
   "source": [
    "plt.semilogy(np.array(losses_cgm) - losses_fgm[-1]*0.999, label=\"CGM\")\n",
    "plt.semilogy(np.array(losses_fcgm) - losses_fgm[-1]*0.999, label=\"FCGM\")\n",
    "plt.semilogy(np.array(losses_umc) - losses_fgm[-1]*0.999, label=\"UMC\")"
   ]
  },
  {
   "cell_type": "code",
   "execution_count": 189,
   "metadata": {},
   "outputs": [],
   "source": [
    "f_opt = losses_gm[-1] * 0.999"
   ]
  },
  {
   "cell_type": "code",
   "execution_count": 190,
   "metadata": {},
   "outputs": [
    {
     "data": {
      "text/plain": [
       "<matplotlib.legend.Legend at 0x1228b3f70>"
      ]
     },
     "execution_count": 190,
     "metadata": {},
     "output_type": "execute_result"
    },
    {
     "data": {
      "image/png": "[encoded data removed]",
      "text/plain": [
       "<Figure size 432x288 with 1 Axes>"
      ]
     },
     "metadata": {
      "needs_background": "light"
     },
     "output_type": "display_data"
    }
   ],
   "source": [
    "plt.semilogy(np.array(losses_cgm) - f_opt, label=\"CGM\")\n",
    "plt.semilogy(np.array(losses_fcgm) - f_opt, label=\"FCGM\")\n",
    "# plt.semilogy(np.array(losses_cgm)[::n][:100] - losses_fgm[-1]*0.999, label=\"CGM\")\n",
    "# plt.semilogy(np.array(losses_fcgm)[::n][:100] - losses_fgm[-1]*0.999, label=\"FCGM\")\n",
    "plt.semilogy(np.array(losses_gm) - f_opt, label=\"GM\")\n",
    "# plt.semilogy(np.array(losses_fgm) - losses_fgm[-1]*0.999, label=\"FGM\")\n",
    "plt.semilogy(np.array(losses_umc) - f_opt, label=\"UMC\")\n",
    "plt.legend()"
   ]
  },
  {
   "cell_type": "code",
   "execution_count": 196,
   "metadata": {},
   "outputs": [
    {
     "data": {
      "text/plain": [
       "<matplotlib.legend.Legend at 0x123cfa550>"
      ]
     },
     "execution_count": 196,
     "metadata": {},
     "output_type": "execute_result"
    },
    {
     "data": {
      "image/png": "[encoded data removed]",
      "text/plain": [
       "<Figure size 432x288 with 1 Axes>"
      ]
     },
     "metadata": {
      "needs_background": "light"
     },
     "output_type": "display_data"
    }
   ],
   "source": [
    "plt.semilogy(time_cgm, np.array(losses_cgm) - f_opt, label=\"CGM\")\n",
    "plt.semilogy(time_fcgm, np.array(losses_fcgm) - f_opt, label=\"FCGM\")\n",
    "plt.semilogy(time_gm, np.array(losses_gm) - f_opt, label=\"GM\")\n",
    "# plt.semilogy(time_fgm, np.array(losses_fgm) - f_opt, label=\"FGM\")\n",
    "plt.semilogy(time_umc, np.array(losses_umc) - f_opt, label=\"UMC\")\n",
    "plt.legend()"
   ]
  },
  {
   "cell_type": "code",
   "execution_count": null,
   "metadata": {},
   "outputs": [],
   "source": []
  }
 ],
 "metadata": {
  "kernelspec": {
   "display_name": "Python 3",
   "language": "python",
   "name": "python3"
  },
  "language_info": {
   "codemirror_mode": {
    "name": "ipython",
    "version": 3
   },
   "file_extension": ".py",
   "mimetype": "text/x-python",
   "name": "python",
   "nbconvert_exporter": "python",
   "pygments_lexer": "ipython3",
   "version": "3.8.3"
  }
 },
 "nbformat": 4,
 "nbformat_minor": 4
}
